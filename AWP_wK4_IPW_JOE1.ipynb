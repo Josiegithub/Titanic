{
 "cells": [
  {
   "cell_type": "code",
   "execution_count": 2,
   "metadata": {},
   "outputs": [
    {
     "data": {
      "text/html": [
       "<div>\n",
       "<style scoped>\n",
       "    .dataframe tbody tr th:only-of-type {\n",
       "        vertical-align: middle;\n",
       "    }\n",
       "\n",
       "    .dataframe tbody tr th {\n",
       "        vertical-align: top;\n",
       "    }\n",
       "\n",
       "    .dataframe thead th {\n",
       "        text-align: right;\n",
       "    }\n",
       "</style>\n",
       "<table border=\"1\" class=\"dataframe\">\n",
       "  <thead>\n",
       "    <tr style=\"text-align: right;\">\n",
       "      <th></th>\n",
       "      <th>product_id</th>\n",
       "      <th>name</th>\n",
       "      <th>wholesale_price</th>\n",
       "      <th>retail_price</th>\n",
       "      <th>sales</th>\n",
       "    </tr>\n",
       "  </thead>\n",
       "  <tbody>\n",
       "    <tr>\n",
       "      <th>0</th>\n",
       "      <td>23</td>\n",
       "      <td>computer</td>\n",
       "      <td>500.0</td>\n",
       "      <td>1000</td>\n",
       "      <td>100</td>\n",
       "    </tr>\n",
       "    <tr>\n",
       "      <th>1</th>\n",
       "      <td>96</td>\n",
       "      <td>Python Workout</td>\n",
       "      <td>35.0</td>\n",
       "      <td>75</td>\n",
       "      <td>1000</td>\n",
       "    </tr>\n",
       "    <tr>\n",
       "      <th>2</th>\n",
       "      <td>97</td>\n",
       "      <td>Pandas Workout</td>\n",
       "      <td>35.0</td>\n",
       "      <td>75</td>\n",
       "      <td>500</td>\n",
       "    </tr>\n",
       "    <tr>\n",
       "      <th>3</th>\n",
       "      <td>15</td>\n",
       "      <td>banana</td>\n",
       "      <td>0.5</td>\n",
       "      <td>1</td>\n",
       "      <td>200</td>\n",
       "    </tr>\n",
       "    <tr>\n",
       "      <th>4</th>\n",
       "      <td>87</td>\n",
       "      <td>sandwich</td>\n",
       "      <td>3.0</td>\n",
       "      <td>5</td>\n",
       "      <td>300</td>\n",
       "    </tr>\n",
       "  </tbody>\n",
       "</table>\n",
       "</div>"
      ],
      "text/plain": [
       "   product_id            name  wholesale_price  retail_price  sales\n",
       "0          23        computer            500.0          1000    100\n",
       "1          96  Python Workout             35.0            75   1000\n",
       "2          97  Pandas Workout             35.0            75    500\n",
       "3          15          banana              0.5             1    200\n",
       "4          87        sandwich              3.0             5    300"
      ]
     },
     "execution_count": 2,
     "metadata": {},
     "output_type": "execute_result"
    }
   ],
   "source": [
    "# Step 1: Create a DataFrame from the list of dictionaries\n",
    "\n",
    "import pandas as pd\n",
    "\n",
    "# List of dictionaries\n",
    "data = [{'product_id':23, 'name':'computer', 'wholesale_price': 500, 'retail_price':1000, 'sales':100},\n",
    "        {'product_id':96, 'name':'Python Workout', 'wholesale_price': 35,'retail_price':75, 'sales':1000},\n",
    "        {'product_id':97, 'name':'Pandas Workout', 'wholesale_price': 35, 'retail_price':75, 'sales':500},\n",
    "        {'product_id':15, 'name':'banana', 'wholesale_price': 0.5,'retail_price':1, 'sales':200},\n",
    "        {'product_id':87, 'name':'sandwich', 'wholesale_price': 3,'retail_price':5, 'sales':300}]\n",
    "\n",
    "#  Convert list of dictionaries to DataFrame\n",
    "df = pd.DataFrame(data)\n",
    "\n",
    "df\n"
   ]
  },
  {
   "cell_type": "code",
   "execution_count": 4,
   "metadata": {},
   "outputs": [
    {
     "name": "stdout",
     "output_type": "stream",
     "text": [
      "             name  net_revenue_per_product\n",
      "0        computer                  50000.0\n",
      "1  Python Workout                  40000.0\n",
      "2  Pandas Workout                  20000.0\n",
      "3          banana                    100.0\n",
      "4        sandwich                    600.0\n"
     ]
    }
   ],
   "source": [
    "# Step 2: Calculate the Total Profit for each product\n",
    "df['net_revenue_per_product'] = (df['retail_price'] - df['wholesale_price']) * df['sales']\n",
    "\n",
    "# Create a new column showing the name of the product and its corresponding revenue\n",
    "\n",
    "# Print the DataFrame with the new column\n",
    "print(df[['name','net_revenue_per_product']])\n",
    "\n",
    "\n",
    "\n"
   ]
  },
  {
   "cell_type": "code",
   "execution_count": 8,
   "metadata": {},
   "outputs": [
    {
     "data": {
      "text/plain": [
       "110700.0"
      ]
     },
     "execution_count": 8,
     "metadata": {},
     "output_type": "execute_result"
    }
   ],
   "source": [
    "# How much total net revenue you received from all of these sales?\n",
    "total_net_revenue = df['net_revenue_per_product'].sum()\n",
    "total_net_revenue"
   ]
  },
  {
   "cell_type": "code",
   "execution_count": 9,
   "metadata": {},
   "outputs": [
    {
     "data": {
      "text/plain": [
       "1    Python Workout\n",
       "2    Pandas Workout\n",
       "Name: name, dtype: object"
      ]
     },
     "execution_count": 9,
     "metadata": {},
     "output_type": "execute_result"
    }
   ],
   "source": [
    "# What product is product retail price more than twice the wholesale price?\n",
    "product_more_than_twice = df[df['retail_price'] > 2 * df['wholesale_price']]['name']\n",
    "product_more_than_twice"
   ]
  },
  {
   "cell_type": "code",
   "execution_count": 26,
   "metadata": {},
   "outputs": [
    {
     "name": "stdout",
     "output_type": "stream",
     "text": [
      "Profit from food products: 700.0\n",
      "Profit from computers: 50000.0\n",
      "Profit from other products: 60000.0\n"
     ]
    }
   ],
   "source": [
    "# How much did the store make from food vs. computers vs. others?\n",
    "\n",
    "food_profit = df[df['name'].isin(['banana', 'sandwich'])]['net_revenue_per_product'].sum()\n",
    "computer_profit = df[df['name'] == 'computer']['net_revenue_per_product'].sum()\n",
    "others_profit = total_net_revenue - (food_profit + computer_profit)\n",
    "\n",
    "print(\"Profit from food products:\", food_profit)\n",
    "\n",
    "print(\"Profit from computers:\", computer_profit)\n",
    "\n",
    "print(\"Profit from other products:\", others_profit)\n"
   ]
  },
  {
   "cell_type": "code",
   "execution_count": 9,
   "metadata": {},
   "outputs": [
    {
     "name": "stdout",
     "output_type": "stream",
     "text": [
      "             name  new_net_revenue\n",
      "0        computer          65000.0\n",
      "1  Python Workout          50500.0\n",
      "2  Pandas Workout          25250.0\n",
      "3          banana            130.0\n",
      "4        sandwich            870.0\n"
     ]
    }
   ],
   "source": [
    "# Apply a 30% discount on the wholesale price\n",
    "discount = 0.30\n",
    "df['discounted_wholesale_price'] = df['wholesale_price'] * (1 - discount)\n",
    "# We calculate the new net revenue using the discounted wholesale price\n",
    "df['new_net_revenue'] = (df['retail_price'] - df['discounted_wholesale_price']) * df['sales']\n",
    "\n",
    "# Print the DataFrame with the new net revenue column\n",
    "print(df[['name', 'new_net_revenue']])"
   ]
  },
  {
   "cell_type": "code",
   "execution_count": 5,
   "metadata": {},
   "outputs": [
    {
     "name": "stdout",
     "output_type": "stream",
     "text": [
      "   product_id            name  wholesale_price  retail_price  sales  \\\n",
      "0          23        computer            500.0          1000    100   \n",
      "1          96  Python Workout             35.0            75   1000   \n",
      "2          97  Pandas Workout             35.0            75    500   \n",
      "3          15          banana              0.5             1    200   \n",
      "4          87        sandwich              3.0             5    300   \n",
      "\n",
      "   net_revenue_per_product  Net Revenue (Tax 15%)  Net Revenue (Tax 20%)  \\\n",
      "0                  50000.0                42500.0                40000.0   \n",
      "1                  40000.0                34000.0                32000.0   \n",
      "2                  20000.0                17000.0                16000.0   \n",
      "3                    100.0                   85.0                   80.0   \n",
      "4                    600.0                  510.0                  480.0   \n",
      "\n",
      "   Net Revenue (Tax 25%)  \n",
      "0                37500.0  \n",
      "1                30000.0  \n",
      "2                15000.0  \n",
      "3                   75.0  \n",
      "4                  450.0  \n"
     ]
    }
   ],
   "source": [
    "# Define sales tax rates\n",
    "sales_tax_rates = [0.15, 0.20, 0.25]\n",
    "\n",
    "# Calculate net revenue with different sales tax rates\n",
    "for tax_rate in sales_tax_rates:\n",
    "    tax_label = f\"Net Revenue (Tax {int(tax_rate * 100)}%)\"\n",
    "    df[tax_label] = df['net_revenue_per_product'] - (df['net_revenue_per_product'] * tax_rate)\n",
    "\n",
    "# Display the updated DataFrame\n",
    "print(df)\n"
   ]
  }
 ],
 "metadata": {
  "kernelspec": {
   "display_name": "Python 3",
   "language": "python",
   "name": "python3"
  },
  "language_info": {
   "codemirror_mode": {
    "name": "ipython",
    "version": 3
   },
   "file_extension": ".py",
   "mimetype": "text/x-python",
   "name": "python",
   "nbconvert_exporter": "python",
   "pygments_lexer": "ipython3",
   "version": "3.11.4"
  }
 },
 "nbformat": 4,
 "nbformat_minor": 2
}
